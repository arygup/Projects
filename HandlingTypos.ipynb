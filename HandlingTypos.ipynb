{
 "cells": [
  {
   "cell_type": "code",
   "execution_count": null,
   "id": "bdaaabe9",
   "metadata": {},
   "outputs": [],
   "source": [
    "import MySQLdb\n",
    "from pandas.io import sql\n",
    "import pandas as pd\n",
    "import numpy as np\n",
    "\n",
    "# Assuming host=\"localhost\", user=\"root\", passwd=\"MYSQLROOTPASSWORD\", db=\"DBNAME\"\n",
    "\n",
    "con = MySQLdb.connect(host=\"localhost\", user=\"root\", passwd=\"MYSQLROOTPASSWORD\", db=\"DBNAME\") \n",
    "cursor = con.cursor()"
   ]
  },
  {
   "cell_type": "code",
   "execution_count": null,
   "id": "3b09c0d2",
   "metadata": {},
   "outputs": [],
   "source": [
    "# Checking for problematic elements ; (deals with all kinds of spaces)\n",
    "\n",
    "# name is the concept/drug name & table is the table we're looking at\n",
    "\n",
    "df_el = pd.read_sql('SELECT  REPLACE(name, ' ', ''), COUNT (REPLACE(name, ' ', '')) FROM Table GROUP BY REPLACE(name, ' ', '') HAVING COUNT (REPLACE(name, ' ', '')) > 1 ', con = conn)\n",
    "\n",
    "# Printing all such entries with minor typographical differences  and their frequencies \n",
    "\n",
    "df_el"
   ]
  },
  {
   "cell_type": "code",
   "execution_count": null,
   "id": "90965fef",
   "metadata": {},
   "outputs": [],
   "source": [
    "# Deleting records with the same names (Keeping the 0th record)\n",
    "\n",
    "# We group by modified name strings(removing all spaces) and remove all entries except the lowest d_id for each group\n",
    "\n",
    "sql = 'DELETE FROM Table WHERE d_id NOT IN (SELECT * FROM (SELECT  MIN(d_id) FROM Table GROUP BY REPLACE(name, ' ', '') HAVING COUNT (REPLACE(name, ' ', ''))))' \n",
    "\n",
    "cursor.execute(sql)\n",
    "\n",
    "con.commit()\n",
    "\n",
    "print(cursor.rowcount)\n"
   ]
  },
  {
   "cell_type": "code",
   "execution_count": null,
   "id": "fb36b015",
   "metadata": {},
   "outputs": [],
   "source": [
    "# if the command runs successfully the output should be NULL\n",
    "df_del = pd.read_sql('SELECT  REPLACE(name, ' ', ''), COUNT (REPLACE(name, ' ', '')) FROM Table GROUP BY REPLACE(name, ' ', '') HAVING COUNT (REPLACE(name, ' ', '')) > 1 ', con = conn)\n",
    "df_del"
   ]
  }
 ],
 "metadata": {
  "kernelspec": {
   "display_name": "Python 3 (ipykernel)",
   "language": "python",
   "name": "python3"
  },
  "language_info": {
   "codemirror_mode": {
    "name": "ipython",
    "version": 3
   },
   "file_extension": ".py",
   "mimetype": "text/x-python",
   "name": "python",
   "nbconvert_exporter": "python",
   "pygments_lexer": "ipython3",
   "version": "3.9.7"
  }
 },
 "nbformat": 4,
 "nbformat_minor": 5
}
